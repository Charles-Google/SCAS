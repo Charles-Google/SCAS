{
 "cells": [
  {
   "cell_type": "code",
   "id": "initial_id",
   "metadata": {
    "collapsed": true,
    "ExecuteTime": {
     "end_time": "2024-09-22T08:02:06.183177Z",
     "start_time": "2024-09-22T08:02:06.172770Z"
    }
   },
   "source": [
    "import pandas as pd\n",
    "import numpy as np\n",
    "from sklearn.preprocessing import MinMaxScaler\n",
    "\n",
    "# 加载股票K线数据\n",
    "stock_data = pd.read_csv('1_601360_klines.csv')\n",
    "\n",
    "# 选择相关特征，例如收盘价\n",
    "stock_prices = stock_data[['close']].values\n",
    "\n",
    "# 归一化股票价格\n",
    "scaler = MinMaxScaler(feature_range=(0, 1))\n",
    "scaled_stock_prices = scaler.fit_transform(stock_prices)\n",
    "\n",
    "# 创建时间序列（以20天为窗口）\n",
    "time_steps = 5\n",
    "X_stock = []\n",
    "y_stock = []\n",
    "for i in range(time_steps, len(scaled_stock_prices)):\n",
    "    X_stock.append(scaled_stock_prices[i-time_steps:i, 0])\n",
    "    y_stock.append(scaled_stock_prices[i, 0])\n",
    "\n",
    "X_stock = np.array(X_stock)\n",
    "y_stock = np.array(y_stock)\n",
    "\n",
    "# 调整形状适合LSTM输入\n",
    "X_stock = np.reshape(X_stock, (X_stock.shape[0], X_stock.shape[1], 1))\n"
   ],
   "outputs": [],
   "execution_count": 30
  },
  {
   "metadata": {
    "ExecuteTime": {
     "end_time": "2024-09-22T08:02:06.211177Z",
     "start_time": "2024-09-22T08:02:06.195541Z"
    }
   },
   "cell_type": "code",
   "source": [
    "# 加载舆论情感数据\n",
    "sentiment_data = pd.read_csv('comments.csv')\n",
    "\n",
    "# 转换日期格式（如需要）\n",
    "sentiment_data['update_time'] = pd.to_datetime(sentiment_data['update_time'], format='%m-%d %H:%M')\n",
    "\n",
    "# 按日期聚合情感得分\n",
    "daily_sentiment = sentiment_data.groupby(sentiment_data['update_time'].dt.date)['sentiment'].mean()\n",
    "\n",
    "# 将情感数据转换为数组\n",
    "daily_sentiment_values = daily_sentiment.values\n",
    "\n",
    "# 归一化情感数据\n",
    "scaled_sentiment = scaler.fit_transform(daily_sentiment_values.reshape(-1, 1))\n",
    "\n",
    "# 检查 scaled_sentiment 的长度和 time_steps\n",
    "print(f\"scaled_sentiment 的长度: {len(scaled_sentiment)}\")\n",
    "print(f\"time_steps 的值: {time_steps}\")\n",
    "\n",
    "# 确保 scaled_sentiment 的长度足够大\n",
    "if len(scaled_sentiment) > time_steps:\n",
    "    X_sentiment = []\n",
    "    for i in range(time_steps, len(scaled_sentiment)):\n",
    "        X_sentiment.append(scaled_sentiment[i-time_steps:i])\n",
    "\n",
    "    # 转换为 numpy 数组\n",
    "    X_sentiment = np.array(X_sentiment)\n",
    "\n",
    "    # 检查X_sentiment的形状\n",
    "    print(X_sentiment.shape)  # 应该是 (样本数, 时间步数)\n",
    "\n",
    "    # 确保X_sentiment是三维数组 (样本数, 时间步数, 特征数=1)\n",
    "    if len(X_sentiment.shape) == 2:\n",
    "        X_sentiment = np.reshape(X_sentiment, (X_sentiment.shape[0], X_sentiment.shape[1], 1))\n",
    "\n",
    "    # 检查重塑后的形状\n",
    "    print(X_sentiment.shape)  # 应该是 (样本数, 时间步数, 1)\n",
    "else:\n",
    "    print(\"scaled_sentiment 的长度不足以生成时间步的序列数据。\")\n"
   ],
   "id": "b54f1d67ed505fb1",
   "outputs": [
    {
     "name": "stdout",
     "output_type": "stream",
     "text": [
      "scaled_sentiment 的长度: 12\n",
      "time_steps 的值: 5\n",
      "(7, 5, 1)\n",
      "(7, 5, 1)\n"
     ]
    }
   ],
   "execution_count": 31
  },
  {
   "metadata": {
    "ExecuteTime": {
     "end_time": "2024-09-22T08:02:06.307390Z",
     "start_time": "2024-09-22T08:02:06.239613Z"
    }
   },
   "cell_type": "code",
   "source": [
    "from tensorflow.keras.models import Model\n",
    "from tensorflow.keras.layers import LSTM, Dense, Dropout, Input, Concatenate, Flatten\n",
    "\n",
    "# LSTM 分支处理股票数据\n",
    "input_stock = Input(shape=(X_stock.shape[1], 1))\n",
    "lstm_stock = LSTM(units=50, return_sequences=True)(input_stock)\n",
    "lstm_stock = LSTM(units=50, return_sequences=False)(lstm_stock)\n",
    "lstm_stock = Dropout(0.2)(lstm_stock)\n",
    "# 确认生成的 X_sentiment 数组维度是否正确\n",
    "print(X_sentiment.shape)  # 应该是 (样本数, 时间步长, 1)\n",
    "\n",
    "# 如果维度不足，请查看数据是否正确生成\n",
    "if len(X_sentiment.shape) != 3:\n",
    "    raise ValueError(f\"X_sentiment 的维度错误，当前维度: {X_sentiment.shape}\")\n",
    "\n",
    "# 确保形状正确再继续模型的构建\n",
    "input_sentiment = Input(shape=(X_sentiment.shape[1], 1))\n",
    "dense_sentiment = Dense(25, activation='relu')(input_sentiment)\n",
    "dense_sentiment = Dropout(0.2)(dense_sentiment)\n",
    "\n",
    "# Dense 分支处理情感数据\n",
    "# input_sentiment = Input(shape=(X_sentiment.shape[1], 1))\n",
    "# dense_sentiment = Dense(25, activation='relu')(input_sentiment)\n",
    "# dense_sentiment = Dropout(0.2)(dense_sentiment)\n",
    "dense_sentiment = Flatten()(dense_sentiment)\n",
    "\n",
    "# 合并两个分支\n",
    "merged = Concatenate()([lstm_stock, dense_sentiment])\n",
    "\n",
    "# 输出层\n",
    "output = Dense(1, activation='linear')(merged)\n",
    "\n",
    "# 定义模型\n",
    "model = Model(inputs=[input_stock, input_sentiment], outputs=output)\n",
    "model.compile(optimizer='adam', loss='mean_squared_error')\n",
    "\n",
    "# 查看模型结构\n",
    "model.summary()\n"
   ],
   "id": "a9c15c74b4946339",
   "outputs": [
    {
     "name": "stdout",
     "output_type": "stream",
     "text": [
      "(7, 5, 1)\n"
     ]
    },
    {
     "data": {
      "text/plain": [
       "\u001B[1mModel: \"functional_2\"\u001B[0m\n"
      ],
      "text/html": [
       "<pre style=\"white-space:pre;overflow-x:auto;line-height:normal;font-family:Menlo,'DejaVu Sans Mono',consolas,'Courier New',monospace\"><span style=\"font-weight: bold\">Model: \"functional_2\"</span>\n",
       "</pre>\n"
      ]
     },
     "metadata": {},
     "output_type": "display_data"
    },
    {
     "data": {
      "text/plain": [
       "┏━━━━━━━━━━━━━━━━━━━━━┳━━━━━━━━━━━━━━━━━━━┳━━━━━━━━━━━━┳━━━━━━━━━━━━━━━━━━━┓\n",
       "┃\u001B[1m \u001B[0m\u001B[1mLayer (type)       \u001B[0m\u001B[1m \u001B[0m┃\u001B[1m \u001B[0m\u001B[1mOutput Shape     \u001B[0m\u001B[1m \u001B[0m┃\u001B[1m \u001B[0m\u001B[1m   Param #\u001B[0m\u001B[1m \u001B[0m┃\u001B[1m \u001B[0m\u001B[1mConnected to     \u001B[0m\u001B[1m \u001B[0m┃\n",
       "┡━━━━━━━━━━━━━━━━━━━━━╇━━━━━━━━━━━━━━━━━━━╇━━━━━━━━━━━━╇━━━━━━━━━━━━━━━━━━━┩\n",
       "│ input_layer_8       │ (\u001B[38;5;45mNone\u001B[0m, \u001B[38;5;34m5\u001B[0m, \u001B[38;5;34m1\u001B[0m)      │          \u001B[38;5;34m0\u001B[0m │ -                 │\n",
       "│ (\u001B[38;5;33mInputLayer\u001B[0m)        │                   │            │                   │\n",
       "├─────────────────────┼───────────────────┼────────────┼───────────────────┤\n",
       "│ input_layer_9       │ (\u001B[38;5;45mNone\u001B[0m, \u001B[38;5;34m5\u001B[0m, \u001B[38;5;34m1\u001B[0m)      │          \u001B[38;5;34m0\u001B[0m │ -                 │\n",
       "│ (\u001B[38;5;33mInputLayer\u001B[0m)        │                   │            │                   │\n",
       "├─────────────────────┼───────────────────┼────────────┼───────────────────┤\n",
       "│ lstm_12 (\u001B[38;5;33mLSTM\u001B[0m)      │ (\u001B[38;5;45mNone\u001B[0m, \u001B[38;5;34m5\u001B[0m, \u001B[38;5;34m50\u001B[0m)     │     \u001B[38;5;34m10,400\u001B[0m │ input_layer_8[\u001B[38;5;34m0\u001B[0m]… │\n",
       "├─────────────────────┼───────────────────┼────────────┼───────────────────┤\n",
       "│ dense_4 (\u001B[38;5;33mDense\u001B[0m)     │ (\u001B[38;5;45mNone\u001B[0m, \u001B[38;5;34m5\u001B[0m, \u001B[38;5;34m25\u001B[0m)     │         \u001B[38;5;34m50\u001B[0m │ input_layer_9[\u001B[38;5;34m0\u001B[0m]… │\n",
       "├─────────────────────┼───────────────────┼────────────┼───────────────────┤\n",
       "│ lstm_13 (\u001B[38;5;33mLSTM\u001B[0m)      │ (\u001B[38;5;45mNone\u001B[0m, \u001B[38;5;34m50\u001B[0m)        │     \u001B[38;5;34m20,200\u001B[0m │ lstm_12[\u001B[38;5;34m0\u001B[0m][\u001B[38;5;34m0\u001B[0m]     │\n",
       "├─────────────────────┼───────────────────┼────────────┼───────────────────┤\n",
       "│ dropout_9 (\u001B[38;5;33mDropout\u001B[0m) │ (\u001B[38;5;45mNone\u001B[0m, \u001B[38;5;34m5\u001B[0m, \u001B[38;5;34m25\u001B[0m)     │          \u001B[38;5;34m0\u001B[0m │ dense_4[\u001B[38;5;34m0\u001B[0m][\u001B[38;5;34m0\u001B[0m]     │\n",
       "├─────────────────────┼───────────────────┼────────────┼───────────────────┤\n",
       "│ dropout_8 (\u001B[38;5;33mDropout\u001B[0m) │ (\u001B[38;5;45mNone\u001B[0m, \u001B[38;5;34m50\u001B[0m)        │          \u001B[38;5;34m0\u001B[0m │ lstm_13[\u001B[38;5;34m0\u001B[0m][\u001B[38;5;34m0\u001B[0m]     │\n",
       "├─────────────────────┼───────────────────┼────────────┼───────────────────┤\n",
       "│ flatten_2 (\u001B[38;5;33mFlatten\u001B[0m) │ (\u001B[38;5;45mNone\u001B[0m, \u001B[38;5;34m125\u001B[0m)       │          \u001B[38;5;34m0\u001B[0m │ dropout_9[\u001B[38;5;34m0\u001B[0m][\u001B[38;5;34m0\u001B[0m]   │\n",
       "├─────────────────────┼───────────────────┼────────────┼───────────────────┤\n",
       "│ concatenate_2       │ (\u001B[38;5;45mNone\u001B[0m, \u001B[38;5;34m175\u001B[0m)       │          \u001B[38;5;34m0\u001B[0m │ dropout_8[\u001B[38;5;34m0\u001B[0m][\u001B[38;5;34m0\u001B[0m],  │\n",
       "│ (\u001B[38;5;33mConcatenate\u001B[0m)       │                   │            │ flatten_2[\u001B[38;5;34m0\u001B[0m][\u001B[38;5;34m0\u001B[0m]   │\n",
       "├─────────────────────┼───────────────────┼────────────┼───────────────────┤\n",
       "│ dense_5 (\u001B[38;5;33mDense\u001B[0m)     │ (\u001B[38;5;45mNone\u001B[0m, \u001B[38;5;34m1\u001B[0m)         │        \u001B[38;5;34m176\u001B[0m │ concatenate_2[\u001B[38;5;34m0\u001B[0m]… │\n",
       "└─────────────────────┴───────────────────┴────────────┴───────────────────┘\n"
      ],
      "text/html": [
       "<pre style=\"white-space:pre;overflow-x:auto;line-height:normal;font-family:Menlo,'DejaVu Sans Mono',consolas,'Courier New',monospace\">┏━━━━━━━━━━━━━━━━━━━━━┳━━━━━━━━━━━━━━━━━━━┳━━━━━━━━━━━━┳━━━━━━━━━━━━━━━━━━━┓\n",
       "┃<span style=\"font-weight: bold\"> Layer (type)        </span>┃<span style=\"font-weight: bold\"> Output Shape      </span>┃<span style=\"font-weight: bold\">    Param # </span>┃<span style=\"font-weight: bold\"> Connected to      </span>┃\n",
       "┡━━━━━━━━━━━━━━━━━━━━━╇━━━━━━━━━━━━━━━━━━━╇━━━━━━━━━━━━╇━━━━━━━━━━━━━━━━━━━┩\n",
       "│ input_layer_8       │ (<span style=\"color: #00d7ff; text-decoration-color: #00d7ff\">None</span>, <span style=\"color: #00af00; text-decoration-color: #00af00\">5</span>, <span style=\"color: #00af00; text-decoration-color: #00af00\">1</span>)      │          <span style=\"color: #00af00; text-decoration-color: #00af00\">0</span> │ -                 │\n",
       "│ (<span style=\"color: #0087ff; text-decoration-color: #0087ff\">InputLayer</span>)        │                   │            │                   │\n",
       "├─────────────────────┼───────────────────┼────────────┼───────────────────┤\n",
       "│ input_layer_9       │ (<span style=\"color: #00d7ff; text-decoration-color: #00d7ff\">None</span>, <span style=\"color: #00af00; text-decoration-color: #00af00\">5</span>, <span style=\"color: #00af00; text-decoration-color: #00af00\">1</span>)      │          <span style=\"color: #00af00; text-decoration-color: #00af00\">0</span> │ -                 │\n",
       "│ (<span style=\"color: #0087ff; text-decoration-color: #0087ff\">InputLayer</span>)        │                   │            │                   │\n",
       "├─────────────────────┼───────────────────┼────────────┼───────────────────┤\n",
       "│ lstm_12 (<span style=\"color: #0087ff; text-decoration-color: #0087ff\">LSTM</span>)      │ (<span style=\"color: #00d7ff; text-decoration-color: #00d7ff\">None</span>, <span style=\"color: #00af00; text-decoration-color: #00af00\">5</span>, <span style=\"color: #00af00; text-decoration-color: #00af00\">50</span>)     │     <span style=\"color: #00af00; text-decoration-color: #00af00\">10,400</span> │ input_layer_8[<span style=\"color: #00af00; text-decoration-color: #00af00\">0</span>]… │\n",
       "├─────────────────────┼───────────────────┼────────────┼───────────────────┤\n",
       "│ dense_4 (<span style=\"color: #0087ff; text-decoration-color: #0087ff\">Dense</span>)     │ (<span style=\"color: #00d7ff; text-decoration-color: #00d7ff\">None</span>, <span style=\"color: #00af00; text-decoration-color: #00af00\">5</span>, <span style=\"color: #00af00; text-decoration-color: #00af00\">25</span>)     │         <span style=\"color: #00af00; text-decoration-color: #00af00\">50</span> │ input_layer_9[<span style=\"color: #00af00; text-decoration-color: #00af00\">0</span>]… │\n",
       "├─────────────────────┼───────────────────┼────────────┼───────────────────┤\n",
       "│ lstm_13 (<span style=\"color: #0087ff; text-decoration-color: #0087ff\">LSTM</span>)      │ (<span style=\"color: #00d7ff; text-decoration-color: #00d7ff\">None</span>, <span style=\"color: #00af00; text-decoration-color: #00af00\">50</span>)        │     <span style=\"color: #00af00; text-decoration-color: #00af00\">20,200</span> │ lstm_12[<span style=\"color: #00af00; text-decoration-color: #00af00\">0</span>][<span style=\"color: #00af00; text-decoration-color: #00af00\">0</span>]     │\n",
       "├─────────────────────┼───────────────────┼────────────┼───────────────────┤\n",
       "│ dropout_9 (<span style=\"color: #0087ff; text-decoration-color: #0087ff\">Dropout</span>) │ (<span style=\"color: #00d7ff; text-decoration-color: #00d7ff\">None</span>, <span style=\"color: #00af00; text-decoration-color: #00af00\">5</span>, <span style=\"color: #00af00; text-decoration-color: #00af00\">25</span>)     │          <span style=\"color: #00af00; text-decoration-color: #00af00\">0</span> │ dense_4[<span style=\"color: #00af00; text-decoration-color: #00af00\">0</span>][<span style=\"color: #00af00; text-decoration-color: #00af00\">0</span>]     │\n",
       "├─────────────────────┼───────────────────┼────────────┼───────────────────┤\n",
       "│ dropout_8 (<span style=\"color: #0087ff; text-decoration-color: #0087ff\">Dropout</span>) │ (<span style=\"color: #00d7ff; text-decoration-color: #00d7ff\">None</span>, <span style=\"color: #00af00; text-decoration-color: #00af00\">50</span>)        │          <span style=\"color: #00af00; text-decoration-color: #00af00\">0</span> │ lstm_13[<span style=\"color: #00af00; text-decoration-color: #00af00\">0</span>][<span style=\"color: #00af00; text-decoration-color: #00af00\">0</span>]     │\n",
       "├─────────────────────┼───────────────────┼────────────┼───────────────────┤\n",
       "│ flatten_2 (<span style=\"color: #0087ff; text-decoration-color: #0087ff\">Flatten</span>) │ (<span style=\"color: #00d7ff; text-decoration-color: #00d7ff\">None</span>, <span style=\"color: #00af00; text-decoration-color: #00af00\">125</span>)       │          <span style=\"color: #00af00; text-decoration-color: #00af00\">0</span> │ dropout_9[<span style=\"color: #00af00; text-decoration-color: #00af00\">0</span>][<span style=\"color: #00af00; text-decoration-color: #00af00\">0</span>]   │\n",
       "├─────────────────────┼───────────────────┼────────────┼───────────────────┤\n",
       "│ concatenate_2       │ (<span style=\"color: #00d7ff; text-decoration-color: #00d7ff\">None</span>, <span style=\"color: #00af00; text-decoration-color: #00af00\">175</span>)       │          <span style=\"color: #00af00; text-decoration-color: #00af00\">0</span> │ dropout_8[<span style=\"color: #00af00; text-decoration-color: #00af00\">0</span>][<span style=\"color: #00af00; text-decoration-color: #00af00\">0</span>],  │\n",
       "│ (<span style=\"color: #0087ff; text-decoration-color: #0087ff\">Concatenate</span>)       │                   │            │ flatten_2[<span style=\"color: #00af00; text-decoration-color: #00af00\">0</span>][<span style=\"color: #00af00; text-decoration-color: #00af00\">0</span>]   │\n",
       "├─────────────────────┼───────────────────┼────────────┼───────────────────┤\n",
       "│ dense_5 (<span style=\"color: #0087ff; text-decoration-color: #0087ff\">Dense</span>)     │ (<span style=\"color: #00d7ff; text-decoration-color: #00d7ff\">None</span>, <span style=\"color: #00af00; text-decoration-color: #00af00\">1</span>)         │        <span style=\"color: #00af00; text-decoration-color: #00af00\">176</span> │ concatenate_2[<span style=\"color: #00af00; text-decoration-color: #00af00\">0</span>]… │\n",
       "└─────────────────────┴───────────────────┴────────────┴───────────────────┘\n",
       "</pre>\n"
      ]
     },
     "metadata": {},
     "output_type": "display_data"
    },
    {
     "data": {
      "text/plain": [
       "\u001B[1m Total params: \u001B[0m\u001B[38;5;34m30,826\u001B[0m (120.41 KB)\n"
      ],
      "text/html": [
       "<pre style=\"white-space:pre;overflow-x:auto;line-height:normal;font-family:Menlo,'DejaVu Sans Mono',consolas,'Courier New',monospace\"><span style=\"font-weight: bold\"> Total params: </span><span style=\"color: #00af00; text-decoration-color: #00af00\">30,826</span> (120.41 KB)\n",
       "</pre>\n"
      ]
     },
     "metadata": {},
     "output_type": "display_data"
    },
    {
     "data": {
      "text/plain": [
       "\u001B[1m Trainable params: \u001B[0m\u001B[38;5;34m30,826\u001B[0m (120.41 KB)\n"
      ],
      "text/html": [
       "<pre style=\"white-space:pre;overflow-x:auto;line-height:normal;font-family:Menlo,'DejaVu Sans Mono',consolas,'Courier New',monospace\"><span style=\"font-weight: bold\"> Trainable params: </span><span style=\"color: #00af00; text-decoration-color: #00af00\">30,826</span> (120.41 KB)\n",
       "</pre>\n"
      ]
     },
     "metadata": {},
     "output_type": "display_data"
    },
    {
     "data": {
      "text/plain": [
       "\u001B[1m Non-trainable params: \u001B[0m\u001B[38;5;34m0\u001B[0m (0.00 B)\n"
      ],
      "text/html": [
       "<pre style=\"white-space:pre;overflow-x:auto;line-height:normal;font-family:Menlo,'DejaVu Sans Mono',consolas,'Courier New',monospace\"><span style=\"font-weight: bold\"> Non-trainable params: </span><span style=\"color: #00af00; text-decoration-color: #00af00\">0</span> (0.00 B)\n",
       "</pre>\n"
      ]
     },
     "metadata": {},
     "output_type": "display_data"
    }
   ],
   "execution_count": 32
  },
  {
   "metadata": {
    "ExecuteTime": {
     "end_time": "2024-09-22T08:03:17.634456Z",
     "start_time": "2024-09-22T08:03:17.552477Z"
    }
   },
   "cell_type": "code",
   "source": [
    "# 找到最小长度，确保X_test_stock和X_test_sentiment对齐\n",
    "min_test_length = min(len(X_test_stock), len(X_test_sentiment))\n",
    "\n",
    "# 截取对齐数据\n",
    "X_test_stock = X_test_stock[:min_test_length]\n",
    "X_test_sentiment = X_test_sentiment[:min_test_length]\n",
    "y_test = y_test[:min_test_length]\n",
    "\n",
    "# 打印检查形状\n",
    "print(f\"X_test_stock shape: {X_test_stock.shape}\")\n",
    "print(f\"X_test_sentiment shape: {X_test_sentiment.shape}\")\n",
    "print(f\"y_test shape: {y_test.shape}\")\n",
    "\n",
    "# 预测\n",
    "predictions = model.predict([X_test_stock, X_test_sentiment])\n",
    "\n",
    "# 可视化结果\n",
    "plt.plot(y_test, label='真实价格')\n",
    "plt.plot(predictions, label='预测价格')\n",
    "plt.legend()\n",
    "plt.show()\n",
    "\n"
   ],
   "id": "ed47ce3615170c67",
   "outputs": [
    {
     "name": "stdout",
     "output_type": "stream",
     "text": [
      "X_test_stock shape: (2, 5, 1)\n",
      "X_test_sentiment shape: (2, 5, 1)\n",
      "y_test shape: (2,)\n",
      "\u001B[1m1/1\u001B[0m \u001B[32m━━━━━━━━━━━━━━━━━━━━\u001B[0m\u001B[37m\u001B[0m \u001B[1m0s\u001B[0m 18ms/step\n"
     ]
    },
    {
     "ename": "NameError",
     "evalue": "name 'plt' is not defined",
     "output_type": "error",
     "traceback": [
      "\u001B[1;31m---------------------------------------------------------------------------\u001B[0m",
      "\u001B[1;31mNameError\u001B[0m                                 Traceback (most recent call last)",
      "Cell \u001B[1;32mIn[34], line 18\u001B[0m\n\u001B[0;32m     15\u001B[0m predictions \u001B[38;5;241m=\u001B[39m model\u001B[38;5;241m.\u001B[39mpredict([X_test_stock, X_test_sentiment])\n\u001B[0;32m     17\u001B[0m \u001B[38;5;66;03m# 可视化结果\u001B[39;00m\n\u001B[1;32m---> 18\u001B[0m \u001B[43mplt\u001B[49m\u001B[38;5;241m.\u001B[39mplot(y_test, label\u001B[38;5;241m=\u001B[39m\u001B[38;5;124m'\u001B[39m\u001B[38;5;124m真实价格\u001B[39m\u001B[38;5;124m'\u001B[39m)\n\u001B[0;32m     19\u001B[0m plt\u001B[38;5;241m.\u001B[39mplot(predictions, label\u001B[38;5;241m=\u001B[39m\u001B[38;5;124m'\u001B[39m\u001B[38;5;124m预测价格\u001B[39m\u001B[38;5;124m'\u001B[39m)\n\u001B[0;32m     20\u001B[0m plt\u001B[38;5;241m.\u001B[39mlegend()\n",
      "\u001B[1;31mNameError\u001B[0m: name 'plt' is not defined"
     ]
    }
   ],
   "execution_count": 34
  }
 ],
 "metadata": {
  "kernelspec": {
   "display_name": "Python 3",
   "language": "python",
   "name": "python3"
  },
  "language_info": {
   "codemirror_mode": {
    "name": "ipython",
    "version": 2
   },
   "file_extension": ".py",
   "mimetype": "text/x-python",
   "name": "python",
   "nbconvert_exporter": "python",
   "pygments_lexer": "ipython2",
   "version": "2.7.6"
  }
 },
 "nbformat": 4,
 "nbformat_minor": 5
}
