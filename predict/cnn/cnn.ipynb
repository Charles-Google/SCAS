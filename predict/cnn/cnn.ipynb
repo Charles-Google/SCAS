{
 "cells": [
  {
   "metadata": {
    "ExecuteTime": {
     "end_time": "2024-09-18T13:40:27.598030Z",
     "start_time": "2024-09-18T13:40:27.591676Z"
    }
   },
   "cell_type": "code",
   "source": [
    "import numpy as np\n",
    "import pandas as pd\n",
    "import matplotlib.pyplot as plt\n",
    "from sklearn.model_selection import train_test_split\n",
    "from sklearn.preprocessing import MinMaxScaler\n",
    "import tensorflow as tf\n",
    "from tensorflow.keras.models import Sequential\n",
    "from tensorflow.keras.layers import Conv1D, MaxPooling1D, Flatten, Dense, Dropout, Activation, Input\n",
    "from tensorflow.keras.optimizers import SGD, Adam\n",
    "from tensorflow.keras.callbacks import EarlyStopping"
   ],
   "id": "774f4de41085fce0",
   "outputs": [],
   "execution_count": 351
  },
  {
   "metadata": {
    "ExecuteTime": {
     "end_time": "2024-09-18T13:40:27.643538Z",
     "start_time": "2024-09-18T13:40:27.619932Z"
    }
   },
   "cell_type": "code",
   "source": [
    "# 加载CSV数据\n",
    "data = pd.read_csv('1_601360_klines.csv')\n",
    "\n",
    "# 查看前几行数据\n",
    "print(data.head())\n"
   ],
   "id": "f7dcec194a8abc81",
   "outputs": [
    {
     "name": "stdout",
     "output_type": "stream",
     "text": [
      "    date_time  open  close  high   low  volume        value  amplitude  \\\n",
      "0  2023-01-03  6.44   6.64  6.65  6.40  395655  263973542.0       3.88   \n",
      "1  2023-01-04  6.64   6.70  6.70  6.61  372649  251973075.0       1.36   \n",
      "2  2023-01-05  6.70   6.68  6.71  6.65  210570  142793393.0       0.90   \n",
      "3  2023-01-06  6.67   6.63  6.69  6.61  191053  128824252.0       1.20   \n",
      "4  2023-01-09  6.63   6.65  6.71  6.63  176322  119216014.0       1.21   \n",
      "\n",
      "   up_down_range  up_down_price  turnover_rate  \n",
      "0           3.11           0.20           0.55  \n",
      "1           0.90           0.06           0.52  \n",
      "2          -0.30          -0.02           0.29  \n",
      "3          -0.75          -0.05           0.27  \n",
      "4           0.30           0.02           0.25  \n"
     ]
    }
   ],
   "execution_count": 352
  },
  {
   "metadata": {
    "ExecuteTime": {
     "end_time": "2024-09-18T13:40:28.110457Z",
     "start_time": "2024-09-18T13:40:27.676755Z"
    }
   },
   "cell_type": "code",
   "source": [
    "x0 = data[['close']].values\n",
    "x0\n"
   ],
   "id": "553e85bbfc49b78c",
   "outputs": [
    {
     "data": {
      "text/plain": [
       "array([[ 6.64],\n",
       "       [ 6.7 ],\n",
       "       [ 6.68],\n",
       "       [ 6.63],\n",
       "       [ 6.65],\n",
       "       [ 6.7 ],\n",
       "       [ 6.57],\n",
       "       [ 6.6 ],\n",
       "       [ 6.62],\n",
       "       [ 6.75],\n",
       "       [ 6.7 ],\n",
       "       [ 6.85],\n",
       "       [ 6.94],\n",
       "       [ 6.94],\n",
       "       [ 7.01],\n",
       "       [ 6.9 ],\n",
       "       [ 7.09],\n",
       "       [ 7.04],\n",
       "       [ 7.17],\n",
       "       [ 7.19],\n",
       "       [ 7.92],\n",
       "       [ 8.72],\n",
       "       [ 9.6 ],\n",
       "       [ 9.27],\n",
       "       [ 9.59],\n",
       "       [10.08],\n",
       "       [11.1 ],\n",
       "       [10.74],\n",
       "       [ 9.91],\n",
       "       [10.91],\n",
       "       [11.78],\n",
       "       [11.55],\n",
       "       [11.09],\n",
       "       [11.62],\n",
       "       [10.66],\n",
       "       [10.69],\n",
       "       [11.21],\n",
       "       [11.43],\n",
       "       [11.56],\n",
       "       [11.26],\n",
       "       [10.96],\n",
       "       [11.47],\n",
       "       [11.24],\n",
       "       [10.88],\n",
       "       [11.7 ],\n",
       "       [12.07],\n",
       "       [11.41],\n",
       "       [12.1 ],\n",
       "       [13.17],\n",
       "       [13.72],\n",
       "       [13.97],\n",
       "       [14.9 ],\n",
       "       [15.15],\n",
       "       [16.68],\n",
       "       [17.88],\n",
       "       [16.79],\n",
       "       [16.36],\n",
       "       [16.75],\n",
       "       [17.35],\n",
       "       [19.1 ],\n",
       "       [19.98],\n",
       "       [18.87],\n",
       "       [18.5 ],\n",
       "       [16.64],\n",
       "       [15.74],\n",
       "       [16.8 ],\n",
       "       [15.77],\n",
       "       [15.4 ],\n",
       "       [16.07],\n",
       "       [16.32],\n",
       "       [15.79],\n",
       "       [16.76],\n",
       "       [15.88],\n",
       "       [16.48],\n",
       "       [17.6 ],\n",
       "       [16.67],\n",
       "       [14.99],\n",
       "       [15.87],\n",
       "       [14.94],\n",
       "       [15.35],\n",
       "       [15.09],\n",
       "       [15.88],\n",
       "       [15.39],\n",
       "       [14.61],\n",
       "       [14.8 ],\n",
       "       [15.01],\n",
       "       [13.96],\n",
       "       [13.93],\n",
       "       [14.29],\n",
       "       [14.29],\n",
       "       [13.57],\n",
       "       [13.26],\n",
       "       [13.04],\n",
       "       [13.34],\n",
       "       [13.2 ],\n",
       "       [13.26],\n",
       "       [14.14],\n",
       "       [13.85],\n",
       "       [14.41],\n",
       "       [14.5 ],\n",
       "       [15.4 ],\n",
       "       [15.12],\n",
       "       [14.9 ],\n",
       "       [14.04],\n",
       "       [14.2 ],\n",
       "       [14.48],\n",
       "       [15.28],\n",
       "       [15.11],\n",
       "       [14.7 ],\n",
       "       [15.04],\n",
       "       [14.89],\n",
       "       [15.77],\n",
       "       [14.55],\n",
       "       [13.09],\n",
       "       [13.03],\n",
       "       [12.55],\n",
       "       [12.42],\n",
       "       [12.44],\n",
       "       [12.31],\n",
       "       [12.45],\n",
       "       [12.23],\n",
       "       [12.38],\n",
       "       [12.1 ],\n",
       "       [11.92],\n",
       "       [12.05],\n",
       "       [11.53],\n",
       "       [11.71],\n",
       "       [12.  ],\n",
       "       [12.06],\n",
       "       [11.85],\n",
       "       [11.9 ],\n",
       "       [11.53],\n",
       "       [11.45],\n",
       "       [11.63],\n",
       "       [11.88],\n",
       "       [11.58],\n",
       "       [11.47],\n",
       "       [11.63],\n",
       "       [11.77],\n",
       "       [11.84],\n",
       "       [11.81],\n",
       "       [11.76],\n",
       "       [12.02],\n",
       "       [11.92],\n",
       "       [11.75],\n",
       "       [11.51],\n",
       "       [11.59],\n",
       "       [11.14],\n",
       "       [11.61],\n",
       "       [11.38],\n",
       "       [11.02],\n",
       "       [11.2 ],\n",
       "       [10.78],\n",
       "       [10.82],\n",
       "       [11.1 ],\n",
       "       [10.71],\n",
       "       [10.71],\n",
       "       [10.19],\n",
       "       [10.39],\n",
       "       [10.8 ],\n",
       "       [11.17],\n",
       "       [11.08],\n",
       "       [10.96],\n",
       "       [11.1 ],\n",
       "       [10.97],\n",
       "       [10.95],\n",
       "       [10.76],\n",
       "       [10.53],\n",
       "       [10.69],\n",
       "       [10.62],\n",
       "       [10.27],\n",
       "       [10.14],\n",
       "       [10.  ],\n",
       "       [ 9.94],\n",
       "       [ 9.73],\n",
       "       [ 9.63],\n",
       "       [ 9.63],\n",
       "       [10.01],\n",
       "       [ 9.62],\n",
       "       [ 9.75],\n",
       "       [ 9.74],\n",
       "       [ 9.73],\n",
       "       [ 9.76],\n",
       "       [ 9.79],\n",
       "       [ 9.9 ],\n",
       "       [ 9.77],\n",
       "       [ 9.53],\n",
       "       [ 9.35],\n",
       "       [ 9.3 ],\n",
       "       [ 9.19],\n",
       "       [ 9.06],\n",
       "       [ 8.86],\n",
       "       [ 8.56],\n",
       "       [ 8.68],\n",
       "       [ 8.76],\n",
       "       [ 8.77],\n",
       "       [ 8.81],\n",
       "       [ 8.92],\n",
       "       [ 8.88],\n",
       "       [ 8.83],\n",
       "       [ 8.81],\n",
       "       [ 8.95],\n",
       "       [ 9.2 ],\n",
       "       [ 9.27],\n",
       "       [ 9.34],\n",
       "       [ 9.37],\n",
       "       [ 9.21],\n",
       "       [ 9.42],\n",
       "       [ 9.54],\n",
       "       [ 9.47],\n",
       "       [ 9.36],\n",
       "       [ 9.42],\n",
       "       [ 9.47],\n",
       "       [ 9.35],\n",
       "       [ 9.21],\n",
       "       [ 9.2 ],\n",
       "       [ 8.9 ],\n",
       "       [ 8.82],\n",
       "       [ 8.83],\n",
       "       [ 8.65],\n",
       "       [ 8.58],\n",
       "       [ 8.92],\n",
       "       [ 8.99],\n",
       "       [ 8.62],\n",
       "       [ 8.7 ],\n",
       "       [ 8.93],\n",
       "       [ 9.37],\n",
       "       [ 9.42],\n",
       "       [ 9.41],\n",
       "       [ 9.26],\n",
       "       [ 9.12],\n",
       "       [ 9.01],\n",
       "       [ 8.84],\n",
       "       [ 8.83],\n",
       "       [ 8.42],\n",
       "       [ 8.47],\n",
       "       [ 8.13],\n",
       "       [ 8.95],\n",
       "       [ 8.78],\n",
       "       [ 8.41],\n",
       "       [ 8.89],\n",
       "       [ 8.91],\n",
       "       [ 8.61],\n",
       "       [ 8.49],\n",
       "       [ 8.27],\n",
       "       [ 8.  ],\n",
       "       [ 7.79],\n",
       "       [ 7.81],\n",
       "       [ 7.75],\n",
       "       [ 7.91],\n",
       "       [ 7.68],\n",
       "       [ 7.64],\n",
       "       [ 7.58],\n",
       "       [ 7.41],\n",
       "       [ 7.58],\n",
       "       [ 7.51],\n",
       "       [ 7.22],\n",
       "       [ 7.55],\n",
       "       [ 7.6 ],\n",
       "       [ 7.75],\n",
       "       [ 7.68],\n",
       "       [ 7.41],\n",
       "       [ 7.21],\n",
       "       [ 6.73],\n",
       "       [ 6.96],\n",
       "       [ 6.67],\n",
       "       [ 6.29],\n",
       "       [ 6.9 ],\n",
       "       [ 6.83],\n",
       "       [ 7.07],\n",
       "       [ 7.68],\n",
       "       [ 7.68],\n",
       "       [ 7.62],\n",
       "       [ 7.82],\n",
       "       [ 7.95],\n",
       "       [ 7.93],\n",
       "       [ 8.73],\n",
       "       [ 8.35],\n",
       "       [ 8.67],\n",
       "       [ 9.55],\n",
       "       [ 9.89],\n",
       "       [ 9.59],\n",
       "       [ 9.43],\n",
       "       [ 9.05],\n",
       "       [ 9.13],\n",
       "       [ 9.24],\n",
       "       [ 9.11],\n",
       "       [ 9.21],\n",
       "       [ 9.  ],\n",
       "       [ 9.04],\n",
       "       [ 9.34],\n",
       "       [ 9.15],\n",
       "       [ 9.35],\n",
       "       [ 9.29],\n",
       "       [ 9.12],\n",
       "       [ 9.25],\n",
       "       [ 8.81],\n",
       "       [ 8.21],\n",
       "       [ 8.75],\n",
       "       [ 8.62],\n",
       "       [ 8.78],\n",
       "       [ 8.58],\n",
       "       [ 8.38],\n",
       "       [ 8.21],\n",
       "       [ 8.39],\n",
       "       [ 8.12],\n",
       "       [ 8.82],\n",
       "       [ 8.56],\n",
       "       [ 8.35],\n",
       "       [ 7.89],\n",
       "       [ 8.29],\n",
       "       [ 8.1 ],\n",
       "       [ 7.88],\n",
       "       [ 7.79],\n",
       "       [ 7.82],\n",
       "       [ 8.1 ],\n",
       "       [ 7.98],\n",
       "       [ 8.25],\n",
       "       [ 8.57],\n",
       "       [ 8.43],\n",
       "       [ 8.66],\n",
       "       [ 9.32],\n",
       "       [ 8.78],\n",
       "       [ 8.73],\n",
       "       [ 8.8 ],\n",
       "       [ 8.53],\n",
       "       [ 8.6 ],\n",
       "       [ 8.41],\n",
       "       [ 8.41],\n",
       "       [ 8.49],\n",
       "       [ 8.55],\n",
       "       [ 8.44],\n",
       "       [ 8.49],\n",
       "       [ 8.21],\n",
       "       [ 8.05],\n",
       "       [ 8.16],\n",
       "       [ 8.04],\n",
       "       [ 8.08],\n",
       "       [ 8.1 ],\n",
       "       [ 8.13],\n",
       "       [ 8.  ],\n",
       "       [ 7.96],\n",
       "       [ 7.92],\n",
       "       [ 7.81],\n",
       "       [ 7.82],\n",
       "       [ 8.  ],\n",
       "       [ 7.99],\n",
       "       [ 7.92],\n",
       "       [ 7.98],\n",
       "       [ 7.96],\n",
       "       [ 8.12],\n",
       "       [ 8.04],\n",
       "       [ 7.76],\n",
       "       [ 7.83],\n",
       "       [ 7.58],\n",
       "       [ 7.4 ],\n",
       "       [ 7.91],\n",
       "       [ 7.74],\n",
       "       [ 7.68],\n",
       "       [ 7.68],\n",
       "       [ 7.66],\n",
       "       [ 7.57],\n",
       "       [ 7.37],\n",
       "       [ 7.45],\n",
       "       [ 7.2 ],\n",
       "       [ 7.3 ],\n",
       "       [ 7.15],\n",
       "       [ 7.34],\n",
       "       [ 7.21],\n",
       "       [ 7.14],\n",
       "       [ 7.27],\n",
       "       [ 7.27],\n",
       "       [ 7.22],\n",
       "       [ 7.35],\n",
       "       [ 7.58],\n",
       "       [ 7.33],\n",
       "       [ 7.17],\n",
       "       [ 7.17],\n",
       "       [ 7.24],\n",
       "       [ 7.21],\n",
       "       [ 7.25],\n",
       "       [ 7.48],\n",
       "       [ 7.48],\n",
       "       [ 7.6 ],\n",
       "       [ 7.29],\n",
       "       [ 7.44],\n",
       "       [ 7.34],\n",
       "       [ 7.3 ],\n",
       "       [ 7.21],\n",
       "       [ 7.09],\n",
       "       [ 7.14],\n",
       "       [ 7.15],\n",
       "       [ 7.23],\n",
       "       [ 7.19],\n",
       "       [ 7.2 ],\n",
       "       [ 7.09],\n",
       "       [ 7.04],\n",
       "       [ 6.78],\n",
       "       [ 6.86],\n",
       "       [ 6.91],\n",
       "       [ 6.73],\n",
       "       [ 6.76],\n",
       "       [ 6.85],\n",
       "       [ 7.  ],\n",
       "       [ 6.86],\n",
       "       [ 6.93],\n",
       "       [ 6.86],\n",
       "       [ 6.96],\n",
       "       [ 6.87],\n",
       "       [ 6.8 ],\n",
       "       [ 6.89],\n",
       "       [ 6.91],\n",
       "       [ 6.89],\n",
       "       [ 6.82],\n",
       "       [ 6.81]])"
      ]
     },
     "execution_count": 353,
     "metadata": {},
     "output_type": "execute_result"
    }
   ],
   "execution_count": 353
  },
  {
   "metadata": {
    "ExecuteTime": {
     "end_time": "2024-09-18T13:40:28.188835Z",
     "start_time": "2024-09-18T13:40:28.174835Z"
    }
   },
   "cell_type": "code",
   "source": "len(x0)",
   "id": "a0c00b744b6d4b18",
   "outputs": [
    {
     "data": {
      "text/plain": [
       "415"
      ]
     },
     "execution_count": 354,
     "metadata": {},
     "output_type": "execute_result"
    }
   ],
   "execution_count": 354
  },
  {
   "metadata": {
    "ExecuteTime": {
     "end_time": "2024-09-18T13:40:28.298880Z",
     "start_time": "2024-09-18T13:40:28.283607Z"
    }
   },
   "cell_type": "code",
   "source": [
    "m = max(x0)\n",
    "x0 /= m\n",
    "x0[:10]"
   ],
   "id": "5b3fe202e982f47e",
   "outputs": [
    {
     "data": {
      "text/plain": [
       "array([[0.33233233],\n",
       "       [0.33533534],\n",
       "       [0.33433433],\n",
       "       [0.33183183],\n",
       "       [0.33283283],\n",
       "       [0.33533534],\n",
       "       [0.32882883],\n",
       "       [0.33033033],\n",
       "       [0.33133133],\n",
       "       [0.33783784]])"
      ]
     },
     "execution_count": 355,
     "metadata": {},
     "output_type": "execute_result"
    }
   ],
   "execution_count": 355
  },
  {
   "metadata": {
    "ExecuteTime": {
     "end_time": "2024-09-18T13:40:28.377145Z",
     "start_time": "2024-09-18T13:40:28.362429Z"
    }
   },
   "cell_type": "code",
   "source": [
    "n = len(x0)\n",
    "p = 30\n",
    "x = np.array([x0[i:i+p] for i in range(n-p+1)])"
   ],
   "id": "b3bff9b51cf9fd1f",
   "outputs": [],
   "execution_count": 356
  },
  {
   "metadata": {
    "ExecuteTime": {
     "end_time": "2024-09-18T13:40:28.454659Z",
     "start_time": "2024-09-18T13:40:28.445595Z"
    }
   },
   "cell_type": "code",
   "source": "x.shape",
   "id": "6447924e0ed0fe41",
   "outputs": [
    {
     "data": {
      "text/plain": [
       "(386, 30, 1)"
      ]
     },
     "execution_count": 357,
     "metadata": {},
     "output_type": "execute_result"
    }
   ],
   "execution_count": 357
  },
  {
   "metadata": {
    "ExecuteTime": {
     "end_time": "2024-09-18T13:40:28.533611Z",
     "start_time": "2024-09-18T13:40:28.517613Z"
    }
   },
   "cell_type": "code",
   "source": [
    "y = np.array(x0[p:])\n",
    "y.shape"
   ],
   "id": "76cc01850a19b965",
   "outputs": [
    {
     "data": {
      "text/plain": [
       "(385, 1)"
      ]
     },
     "execution_count": 358,
     "metadata": {},
     "output_type": "execute_result"
    }
   ],
   "execution_count": 358
  },
  {
   "metadata": {
    "ExecuteTime": {
     "end_time": "2024-09-18T13:40:28.579767Z",
     "start_time": "2024-09-18T13:40:28.566177Z"
    }
   },
   "cell_type": "code",
   "source": [
    "X = x[:-1]\n",
    "X = X[:, :, np.newaxis]\n",
    "X.shape"
   ],
   "id": "4fb9ada4047e35ef",
   "outputs": [
    {
     "data": {
      "text/plain": [
       "(385, 30, 1, 1)"
      ]
     },
     "execution_count": 359,
     "metadata": {},
     "output_type": "execute_result"
    }
   ],
   "execution_count": 359
  },
  {
   "metadata": {
    "ExecuteTime": {
     "end_time": "2024-09-18T13:40:28.642457Z",
     "start_time": "2024-09-18T13:40:28.624039Z"
    }
   },
   "cell_type": "code",
   "source": "X_train, X_test, y_train, y_test = train_test_split(X, y, test_size=0.2, shuffle=True)",
   "id": "142de167ced95911",
   "outputs": [],
   "execution_count": 360
  },
  {
   "metadata": {
    "ExecuteTime": {
     "end_time": "2024-09-18T13:40:28.689570Z",
     "start_time": "2024-09-18T13:40:28.675203Z"
    }
   },
   "cell_type": "code",
   "source": "X_train.shape",
   "id": "43a079235ec804cc",
   "outputs": [
    {
     "data": {
      "text/plain": [
       "(308, 30, 1, 1)"
      ]
     },
     "execution_count": 361,
     "metadata": {},
     "output_type": "execute_result"
    }
   ],
   "execution_count": 361
  },
  {
   "metadata": {},
   "cell_type": "markdown",
   "source": "",
   "id": "943adba4e38b832b"
  },
  {
   "metadata": {
    "ExecuteTime": {
     "end_time": "2024-09-18T13:40:28.752214Z",
     "start_time": "2024-09-18T13:40:28.727198Z"
    }
   },
   "cell_type": "code",
   "source": [
    "model = Sequential()\n",
    "model.add(Input(shape=(p, 1)))  # 添加 Input 层\n",
    "model.add(Conv1D(50, 4, padding = 'same',activation='relu', input_shape=(p, 1)))"
   ],
   "id": "75db17f5327ab0e3",
   "outputs": [
    {
     "name": "stderr",
     "output_type": "stream",
     "text": [
      "C:\\Users\\张小明\\Desktop\\cnn\\cnn\\lib\\site-packages\\keras\\src\\layers\\convolutional\\base_conv.py:107: UserWarning: Do not pass an `input_shape`/`input_dim` argument to a layer. When using Sequential models, prefer using an `Input(shape)` object as the first layer in the model instead.\n",
      "  super().__init__(activity_regularizer=activity_regularizer, **kwargs)\n"
     ]
    }
   ],
   "execution_count": 362
  },
  {
   "metadata": {
    "ExecuteTime": {
     "end_time": "2024-09-18T13:40:28.859873Z",
     "start_time": "2024-09-18T13:40:28.814799Z"
    }
   },
   "cell_type": "code",
   "source": [
    "model.add(MaxPooling1D(pool_size=2))\n",
    "model.add(Flatten())\n",
    "model.add(Dense(20))\n",
    "model.add(Dropout(0.2))\n",
    "model.add(Activation('relu'))\n",
    "model.add(Dense(1))\n",
    "model.add(Activation('sigmoid'))\n",
    "\n",
    "# 使用较新的方式设置学习率\n",
    "optimizer = Adam(learning_rate=0.01)\n",
    "model.compile(loss='mean_squared_error', optimizer=optimizer, metrics=['accuracy'])\n",
    "model.summary()"
   ],
   "id": "e06fe0cd13453055",
   "outputs": [
    {
     "data": {
      "text/plain": [
       "\u001B[1mModel: \"sequential_33\"\u001B[0m\n"
      ],
      "text/html": [
       "<pre style=\"white-space:pre;overflow-x:auto;line-height:normal;font-family:Menlo,'DejaVu Sans Mono',consolas,'Courier New',monospace\"><span style=\"font-weight: bold\">Model: \"sequential_33\"</span>\n",
       "</pre>\n"
      ]
     },
     "metadata": {},
     "output_type": "display_data"
    },
    {
     "data": {
      "text/plain": [
       "┏━━━━━━━━━━━━━━━━━━━━━━━━━━━━━━━━━┳━━━━━━━━━━━━━━━━━━━━━━━━┳━━━━━━━━━━━━━━━┓\n",
       "┃\u001B[1m \u001B[0m\u001B[1mLayer (type)                   \u001B[0m\u001B[1m \u001B[0m┃\u001B[1m \u001B[0m\u001B[1mOutput Shape          \u001B[0m\u001B[1m \u001B[0m┃\u001B[1m \u001B[0m\u001B[1m      Param #\u001B[0m\u001B[1m \u001B[0m┃\n",
       "┡━━━━━━━━━━━━━━━━━━━━━━━━━━━━━━━━━╇━━━━━━━━━━━━━━━━━━━━━━━━╇━━━━━━━━━━━━━━━┩\n",
       "│ conv1d_32 (\u001B[38;5;33mConv1D\u001B[0m)              │ (\u001B[38;5;45mNone\u001B[0m, \u001B[38;5;34m30\u001B[0m, \u001B[38;5;34m50\u001B[0m)         │           \u001B[38;5;34m250\u001B[0m │\n",
       "├─────────────────────────────────┼────────────────────────┼───────────────┤\n",
       "│ max_pooling1d_36 (\u001B[38;5;33mMaxPooling1D\u001B[0m) │ (\u001B[38;5;45mNone\u001B[0m, \u001B[38;5;34m15\u001B[0m, \u001B[38;5;34m50\u001B[0m)         │             \u001B[38;5;34m0\u001B[0m │\n",
       "├─────────────────────────────────┼────────────────────────┼───────────────┤\n",
       "│ flatten_28 (\u001B[38;5;33mFlatten\u001B[0m)            │ (\u001B[38;5;45mNone\u001B[0m, \u001B[38;5;34m750\u001B[0m)            │             \u001B[38;5;34m0\u001B[0m │\n",
       "├─────────────────────────────────┼────────────────────────┼───────────────┤\n",
       "│ dense_55 (\u001B[38;5;33mDense\u001B[0m)                │ (\u001B[38;5;45mNone\u001B[0m, \u001B[38;5;34m20\u001B[0m)             │        \u001B[38;5;34m15,020\u001B[0m │\n",
       "├─────────────────────────────────┼────────────────────────┼───────────────┤\n",
       "│ dropout_28 (\u001B[38;5;33mDropout\u001B[0m)            │ (\u001B[38;5;45mNone\u001B[0m, \u001B[38;5;34m20\u001B[0m)             │             \u001B[38;5;34m0\u001B[0m │\n",
       "├─────────────────────────────────┼────────────────────────┼───────────────┤\n",
       "│ activation_54 (\u001B[38;5;33mActivation\u001B[0m)      │ (\u001B[38;5;45mNone\u001B[0m, \u001B[38;5;34m20\u001B[0m)             │             \u001B[38;5;34m0\u001B[0m │\n",
       "├─────────────────────────────────┼────────────────────────┼───────────────┤\n",
       "│ dense_56 (\u001B[38;5;33mDense\u001B[0m)                │ (\u001B[38;5;45mNone\u001B[0m, \u001B[38;5;34m1\u001B[0m)              │            \u001B[38;5;34m21\u001B[0m │\n",
       "├─────────────────────────────────┼────────────────────────┼───────────────┤\n",
       "│ activation_55 (\u001B[38;5;33mActivation\u001B[0m)      │ (\u001B[38;5;45mNone\u001B[0m, \u001B[38;5;34m1\u001B[0m)              │             \u001B[38;5;34m0\u001B[0m │\n",
       "└─────────────────────────────────┴────────────────────────┴───────────────┘\n"
      ],
      "text/html": [
       "<pre style=\"white-space:pre;overflow-x:auto;line-height:normal;font-family:Menlo,'DejaVu Sans Mono',consolas,'Courier New',monospace\">┏━━━━━━━━━━━━━━━━━━━━━━━━━━━━━━━━━┳━━━━━━━━━━━━━━━━━━━━━━━━┳━━━━━━━━━━━━━━━┓\n",
       "┃<span style=\"font-weight: bold\"> Layer (type)                    </span>┃<span style=\"font-weight: bold\"> Output Shape           </span>┃<span style=\"font-weight: bold\">       Param # </span>┃\n",
       "┡━━━━━━━━━━━━━━━━━━━━━━━━━━━━━━━━━╇━━━━━━━━━━━━━━━━━━━━━━━━╇━━━━━━━━━━━━━━━┩\n",
       "│ conv1d_32 (<span style=\"color: #0087ff; text-decoration-color: #0087ff\">Conv1D</span>)              │ (<span style=\"color: #00d7ff; text-decoration-color: #00d7ff\">None</span>, <span style=\"color: #00af00; text-decoration-color: #00af00\">30</span>, <span style=\"color: #00af00; text-decoration-color: #00af00\">50</span>)         │           <span style=\"color: #00af00; text-decoration-color: #00af00\">250</span> │\n",
       "├─────────────────────────────────┼────────────────────────┼───────────────┤\n",
       "│ max_pooling1d_36 (<span style=\"color: #0087ff; text-decoration-color: #0087ff\">MaxPooling1D</span>) │ (<span style=\"color: #00d7ff; text-decoration-color: #00d7ff\">None</span>, <span style=\"color: #00af00; text-decoration-color: #00af00\">15</span>, <span style=\"color: #00af00; text-decoration-color: #00af00\">50</span>)         │             <span style=\"color: #00af00; text-decoration-color: #00af00\">0</span> │\n",
       "├─────────────────────────────────┼────────────────────────┼───────────────┤\n",
       "│ flatten_28 (<span style=\"color: #0087ff; text-decoration-color: #0087ff\">Flatten</span>)            │ (<span style=\"color: #00d7ff; text-decoration-color: #00d7ff\">None</span>, <span style=\"color: #00af00; text-decoration-color: #00af00\">750</span>)            │             <span style=\"color: #00af00; text-decoration-color: #00af00\">0</span> │\n",
       "├─────────────────────────────────┼────────────────────────┼───────────────┤\n",
       "│ dense_55 (<span style=\"color: #0087ff; text-decoration-color: #0087ff\">Dense</span>)                │ (<span style=\"color: #00d7ff; text-decoration-color: #00d7ff\">None</span>, <span style=\"color: #00af00; text-decoration-color: #00af00\">20</span>)             │        <span style=\"color: #00af00; text-decoration-color: #00af00\">15,020</span> │\n",
       "├─────────────────────────────────┼────────────────────────┼───────────────┤\n",
       "│ dropout_28 (<span style=\"color: #0087ff; text-decoration-color: #0087ff\">Dropout</span>)            │ (<span style=\"color: #00d7ff; text-decoration-color: #00d7ff\">None</span>, <span style=\"color: #00af00; text-decoration-color: #00af00\">20</span>)             │             <span style=\"color: #00af00; text-decoration-color: #00af00\">0</span> │\n",
       "├─────────────────────────────────┼────────────────────────┼───────────────┤\n",
       "│ activation_54 (<span style=\"color: #0087ff; text-decoration-color: #0087ff\">Activation</span>)      │ (<span style=\"color: #00d7ff; text-decoration-color: #00d7ff\">None</span>, <span style=\"color: #00af00; text-decoration-color: #00af00\">20</span>)             │             <span style=\"color: #00af00; text-decoration-color: #00af00\">0</span> │\n",
       "├─────────────────────────────────┼────────────────────────┼───────────────┤\n",
       "│ dense_56 (<span style=\"color: #0087ff; text-decoration-color: #0087ff\">Dense</span>)                │ (<span style=\"color: #00d7ff; text-decoration-color: #00d7ff\">None</span>, <span style=\"color: #00af00; text-decoration-color: #00af00\">1</span>)              │            <span style=\"color: #00af00; text-decoration-color: #00af00\">21</span> │\n",
       "├─────────────────────────────────┼────────────────────────┼───────────────┤\n",
       "│ activation_55 (<span style=\"color: #0087ff; text-decoration-color: #0087ff\">Activation</span>)      │ (<span style=\"color: #00d7ff; text-decoration-color: #00d7ff\">None</span>, <span style=\"color: #00af00; text-decoration-color: #00af00\">1</span>)              │             <span style=\"color: #00af00; text-decoration-color: #00af00\">0</span> │\n",
       "└─────────────────────────────────┴────────────────────────┴───────────────┘\n",
       "</pre>\n"
      ]
     },
     "metadata": {},
     "output_type": "display_data"
    },
    {
     "data": {
      "text/plain": [
       "\u001B[1m Total params: \u001B[0m\u001B[38;5;34m15,291\u001B[0m (59.73 KB)\n"
      ],
      "text/html": [
       "<pre style=\"white-space:pre;overflow-x:auto;line-height:normal;font-family:Menlo,'DejaVu Sans Mono',consolas,'Courier New',monospace\"><span style=\"font-weight: bold\"> Total params: </span><span style=\"color: #00af00; text-decoration-color: #00af00\">15,291</span> (59.73 KB)\n",
       "</pre>\n"
      ]
     },
     "metadata": {},
     "output_type": "display_data"
    },
    {
     "data": {
      "text/plain": [
       "\u001B[1m Trainable params: \u001B[0m\u001B[38;5;34m15,291\u001B[0m (59.73 KB)\n"
      ],
      "text/html": [
       "<pre style=\"white-space:pre;overflow-x:auto;line-height:normal;font-family:Menlo,'DejaVu Sans Mono',consolas,'Courier New',monospace\"><span style=\"font-weight: bold\"> Trainable params: </span><span style=\"color: #00af00; text-decoration-color: #00af00\">15,291</span> (59.73 KB)\n",
       "</pre>\n"
      ]
     },
     "metadata": {},
     "output_type": "display_data"
    },
    {
     "data": {
      "text/plain": [
       "\u001B[1m Non-trainable params: \u001B[0m\u001B[38;5;34m0\u001B[0m (0.00 B)\n"
      ],
      "text/html": [
       "<pre style=\"white-space:pre;overflow-x:auto;line-height:normal;font-family:Menlo,'DejaVu Sans Mono',consolas,'Courier New',monospace\"><span style=\"font-weight: bold\"> Non-trainable params: </span><span style=\"color: #00af00; text-decoration-color: #00af00\">0</span> (0.00 B)\n",
       "</pre>\n"
      ]
     },
     "metadata": {},
     "output_type": "display_data"
    }
   ],
   "execution_count": 363
  },
  {
   "metadata": {
    "ExecuteTime": {
     "end_time": "2024-09-18T13:40:31.644547Z",
     "start_time": "2024-09-18T13:40:28.895620Z"
    }
   },
   "cell_type": "code",
   "source": [
    "early_stopping = EarlyStopping(monitor='val_loss', patience=10, restore_best_weights=True)\n",
    "history = model.fit(X_train, y_train, epochs=50, batch_size=32, validation_split=0.2, callbacks=[early_stopping])"
   ],
   "id": "f5a87d98a06c2c93",
   "outputs": [
    {
     "name": "stdout",
     "output_type": "stream",
     "text": [
      "Epoch 1/50\n",
      "\u001B[1m8/8\u001B[0m \u001B[32m━━━━━━━━━━━━━━━━━━━━\u001B[0m\u001B[37m\u001B[0m \u001B[1m1s\u001B[0m 22ms/step - accuracy: 0.0000e+00 - loss: 0.0180 - val_accuracy: 0.0000e+00 - val_loss: 0.0102\n",
      "Epoch 2/50\n",
      "\u001B[1m8/8\u001B[0m \u001B[32m━━━━━━━━━━━━━━━━━━━━\u001B[0m\u001B[37m\u001B[0m \u001B[1m0s\u001B[0m 5ms/step - accuracy: 0.0027 - loss: 0.0118 - val_accuracy: 0.0000e+00 - val_loss: 0.0031\n",
      "Epoch 3/50\n",
      "\u001B[1m8/8\u001B[0m \u001B[32m━━━━━━━━━━━━━━━━━━━━\u001B[0m\u001B[37m\u001B[0m \u001B[1m0s\u001B[0m 5ms/step - accuracy: 0.0035 - loss: 0.0055 - val_accuracy: 0.0000e+00 - val_loss: 0.0015\n",
      "Epoch 4/50\n",
      "\u001B[1m8/8\u001B[0m \u001B[32m━━━━━━━━━━━━━━━━━━━━\u001B[0m\u001B[37m\u001B[0m \u001B[1m0s\u001B[0m 5ms/step - accuracy: 0.0027 - loss: 0.0040 - val_accuracy: 0.0000e+00 - val_loss: 0.0014\n",
      "Epoch 5/50\n",
      "\u001B[1m8/8\u001B[0m \u001B[32m━━━━━━━━━━━━━━━━━━━━\u001B[0m\u001B[37m\u001B[0m \u001B[1m0s\u001B[0m 5ms/step - accuracy: 0.0047 - loss: 0.0038 - val_accuracy: 0.0000e+00 - val_loss: 0.0018\n",
      "Epoch 6/50\n",
      "\u001B[1m8/8\u001B[0m \u001B[32m━━━━━━━━━━━━━━━━━━━━\u001B[0m\u001B[37m\u001B[0m \u001B[1m0s\u001B[0m 5ms/step - accuracy: 0.0020 - loss: 0.0042 - val_accuracy: 0.0000e+00 - val_loss: 0.0028\n",
      "Epoch 7/50\n",
      "\u001B[1m8/8\u001B[0m \u001B[32m━━━━━━━━━━━━━━━━━━━━\u001B[0m\u001B[37m\u001B[0m \u001B[1m0s\u001B[0m 5ms/step - accuracy: 0.0064 - loss: 0.0036 - val_accuracy: 0.0000e+00 - val_loss: 0.0012\n",
      "Epoch 8/50\n",
      "\u001B[1m8/8\u001B[0m \u001B[32m━━━━━━━━━━━━━━━━━━━━\u001B[0m\u001B[37m\u001B[0m \u001B[1m0s\u001B[0m 5ms/step - accuracy: 9.0334e-04 - loss: 0.0030 - val_accuracy: 0.0000e+00 - val_loss: 0.0019\n",
      "Epoch 9/50\n",
      "\u001B[1m8/8\u001B[0m \u001B[32m━━━━━━━━━━━━━━━━━━━━\u001B[0m\u001B[37m\u001B[0m \u001B[1m0s\u001B[0m 5ms/step - accuracy: 0.0020 - loss: 0.0032 - val_accuracy: 0.0000e+00 - val_loss: 9.5194e-04\n",
      "Epoch 10/50\n",
      "\u001B[1m8/8\u001B[0m \u001B[32m━━━━━━━━━━━━━━━━━━━━\u001B[0m\u001B[37m\u001B[0m \u001B[1m0s\u001B[0m 5ms/step - accuracy: 0.0020 - loss: 0.0028 - val_accuracy: 0.0000e+00 - val_loss: 9.1638e-04\n",
      "Epoch 11/50\n",
      "\u001B[1m8/8\u001B[0m \u001B[32m━━━━━━━━━━━━━━━━━━━━\u001B[0m\u001B[37m\u001B[0m \u001B[1m0s\u001B[0m 5ms/step - accuracy: 0.0020 - loss: 0.0022 - val_accuracy: 0.0000e+00 - val_loss: 8.5410e-04\n",
      "Epoch 12/50\n",
      "\u001B[1m8/8\u001B[0m \u001B[32m━━━━━━━━━━━━━━━━━━━━\u001B[0m\u001B[37m\u001B[0m \u001B[1m0s\u001B[0m 5ms/step - accuracy: 0.0064 - loss: 0.0025 - val_accuracy: 0.0000e+00 - val_loss: 7.1126e-04\n",
      "Epoch 13/50\n",
      "\u001B[1m8/8\u001B[0m \u001B[32m━━━━━━━━━━━━━━━━━━━━\u001B[0m\u001B[37m\u001B[0m \u001B[1m0s\u001B[0m 4ms/step - accuracy: 0.0064 - loss: 0.0019 - val_accuracy: 0.0000e+00 - val_loss: 0.0016\n",
      "Epoch 14/50\n",
      "\u001B[1m8/8\u001B[0m \u001B[32m━━━━━━━━━━━━━━━━━━━━\u001B[0m\u001B[37m\u001B[0m \u001B[1m0s\u001B[0m 5ms/step - accuracy: 0.0027 - loss: 0.0029 - val_accuracy: 0.0000e+00 - val_loss: 9.4705e-04\n",
      "Epoch 15/50\n",
      "\u001B[1m8/8\u001B[0m \u001B[32m━━━━━━━━━━━━━━━━━━━━\u001B[0m\u001B[37m\u001B[0m \u001B[1m0s\u001B[0m 5ms/step - accuracy: 0.0047 - loss: 0.0023 - val_accuracy: 0.0000e+00 - val_loss: 9.2373e-04\n",
      "Epoch 16/50\n",
      "\u001B[1m8/8\u001B[0m \u001B[32m━━━━━━━━━━━━━━━━━━━━\u001B[0m\u001B[37m\u001B[0m \u001B[1m0s\u001B[0m 5ms/step - accuracy: 0.0099 - loss: 0.0037 - val_accuracy: 0.0000e+00 - val_loss: 7.3528e-04\n",
      "Epoch 17/50\n",
      "\u001B[1m8/8\u001B[0m \u001B[32m━━━━━━━━━━━━━━━━━━━━\u001B[0m\u001B[37m\u001B[0m \u001B[1m0s\u001B[0m 5ms/step - accuracy: 9.0334e-04 - loss: 0.0016 - val_accuracy: 0.0000e+00 - val_loss: 8.9176e-04\n",
      "Epoch 18/50\n",
      "\u001B[1m8/8\u001B[0m \u001B[32m━━━━━━━━━━━━━━━━━━━━\u001B[0m\u001B[37m\u001B[0m \u001B[1m0s\u001B[0m 5ms/step - accuracy: 0.0099 - loss: 0.0021 - val_accuracy: 0.0000e+00 - val_loss: 7.2294e-04\n",
      "Epoch 19/50\n",
      "\u001B[1m8/8\u001B[0m \u001B[32m━━━━━━━━━━━━━━━━━━━━\u001B[0m\u001B[37m\u001B[0m \u001B[1m0s\u001B[0m 5ms/step - accuracy: 0.0020 - loss: 0.0035 - val_accuracy: 0.0000e+00 - val_loss: 8.2428e-04\n",
      "Epoch 20/50\n",
      "\u001B[1m8/8\u001B[0m \u001B[32m━━━━━━━━━━━━━━━━━━━━\u001B[0m\u001B[37m\u001B[0m \u001B[1m0s\u001B[0m 5ms/step - accuracy: 0.0014 - loss: 0.0023 - val_accuracy: 0.0000e+00 - val_loss: 6.5191e-04\n",
      "Epoch 21/50\n",
      "\u001B[1m8/8\u001B[0m \u001B[32m━━━━━━━━━━━━━━━━━━━━\u001B[0m\u001B[37m\u001B[0m \u001B[1m0s\u001B[0m 5ms/step - accuracy: 0.0020 - loss: 0.0027 - val_accuracy: 0.0000e+00 - val_loss: 6.9214e-04\n",
      "Epoch 22/50\n",
      "\u001B[1m8/8\u001B[0m \u001B[32m━━━━━━━━━━━━━━━━━━━━\u001B[0m\u001B[37m\u001B[0m \u001B[1m0s\u001B[0m 5ms/step - accuracy: 9.0334e-04 - loss: 0.0017 - val_accuracy: 0.0000e+00 - val_loss: 7.3393e-04\n",
      "Epoch 23/50\n",
      "\u001B[1m8/8\u001B[0m \u001B[32m━━━━━━━━━━━━━━━━━━━━\u001B[0m\u001B[37m\u001B[0m \u001B[1m0s\u001B[0m 5ms/step - accuracy: 0.0020 - loss: 0.0018 - val_accuracy: 0.0000e+00 - val_loss: 8.9371e-04\n",
      "Epoch 24/50\n",
      "\u001B[1m8/8\u001B[0m \u001B[32m━━━━━━━━━━━━━━━━━━━━\u001B[0m\u001B[37m\u001B[0m \u001B[1m0s\u001B[0m 5ms/step - accuracy: 0.0020 - loss: 0.0024 - val_accuracy: 0.0000e+00 - val_loss: 9.6805e-04\n",
      "Epoch 25/50\n",
      "\u001B[1m8/8\u001B[0m \u001B[32m━━━━━━━━━━━━━━━━━━━━\u001B[0m\u001B[37m\u001B[0m \u001B[1m0s\u001B[0m 5ms/step - accuracy: 0.0027 - loss: 0.0019 - val_accuracy: 0.0000e+00 - val_loss: 5.9667e-04\n",
      "Epoch 26/50\n",
      "\u001B[1m8/8\u001B[0m \u001B[32m━━━━━━━━━━━━━━━━━━━━\u001B[0m\u001B[37m\u001B[0m \u001B[1m0s\u001B[0m 4ms/step - accuracy: 0.0047 - loss: 0.0019 - val_accuracy: 0.0000e+00 - val_loss: 7.0896e-04\n",
      "Epoch 27/50\n",
      "\u001B[1m8/8\u001B[0m \u001B[32m━━━━━━━━━━━━━━━━━━━━\u001B[0m\u001B[37m\u001B[0m \u001B[1m0s\u001B[0m 5ms/step - accuracy: 0.0099 - loss: 0.0014 - val_accuracy: 0.0000e+00 - val_loss: 6.2607e-04\n",
      "Epoch 28/50\n",
      "\u001B[1m8/8\u001B[0m \u001B[32m━━━━━━━━━━━━━━━━━━━━\u001B[0m\u001B[37m\u001B[0m \u001B[1m0s\u001B[0m 5ms/step - accuracy: 0.0020 - loss: 0.0020 - val_accuracy: 0.0000e+00 - val_loss: 8.8292e-04\n",
      "Epoch 29/50\n",
      "\u001B[1m8/8\u001B[0m \u001B[32m━━━━━━━━━━━━━━━━━━━━\u001B[0m\u001B[37m\u001B[0m \u001B[1m0s\u001B[0m 4ms/step - accuracy: 0.0035 - loss: 0.0022 - val_accuracy: 0.0000e+00 - val_loss: 0.0012\n",
      "Epoch 30/50\n",
      "\u001B[1m8/8\u001B[0m \u001B[32m━━━━━━━━━━━━━━━━━━━━\u001B[0m\u001B[37m\u001B[0m \u001B[1m0s\u001B[0m 5ms/step - accuracy: 0.0099 - loss: 0.0017 - val_accuracy: 0.0000e+00 - val_loss: 6.9928e-04\n",
      "Epoch 31/50\n",
      "\u001B[1m8/8\u001B[0m \u001B[32m━━━━━━━━━━━━━━━━━━━━\u001B[0m\u001B[37m\u001B[0m \u001B[1m0s\u001B[0m 5ms/step - accuracy: 0.0099 - loss: 0.0019 - val_accuracy: 0.0000e+00 - val_loss: 7.0273e-04\n",
      "Epoch 32/50\n",
      "\u001B[1m8/8\u001B[0m \u001B[32m━━━━━━━━━━━━━━━━━━━━\u001B[0m\u001B[37m\u001B[0m \u001B[1m0s\u001B[0m 4ms/step - accuracy: 0.0020 - loss: 0.0014 - val_accuracy: 0.0000e+00 - val_loss: 6.3309e-04\n",
      "Epoch 33/50\n",
      "\u001B[1m8/8\u001B[0m \u001B[32m━━━━━━━━━━━━━━━━━━━━\u001B[0m\u001B[37m\u001B[0m \u001B[1m0s\u001B[0m 4ms/step - accuracy: 0.0064 - loss: 0.0016 - val_accuracy: 0.0000e+00 - val_loss: 6.5717e-04\n",
      "Epoch 34/50\n",
      "\u001B[1m8/8\u001B[0m \u001B[32m━━━━━━━━━━━━━━━━━━━━\u001B[0m\u001B[37m\u001B[0m \u001B[1m0s\u001B[0m 4ms/step - accuracy: 0.0047 - loss: 9.4856e-04 - val_accuracy: 0.0000e+00 - val_loss: 8.8870e-04\n",
      "Epoch 35/50\n",
      "\u001B[1m8/8\u001B[0m \u001B[32m━━━━━━━━━━━━━━━━━━━━\u001B[0m\u001B[37m\u001B[0m \u001B[1m0s\u001B[0m 5ms/step - accuracy: 0.0099 - loss: 0.0018 - val_accuracy: 0.0000e+00 - val_loss: 6.3871e-04\n"
     ]
    }
   ],
   "execution_count": 364
  },
  {
   "metadata": {
    "ExecuteTime": {
     "end_time": "2024-09-18T13:40:31.862537Z",
     "start_time": "2024-09-18T13:40:31.677200Z"
    }
   },
   "cell_type": "code",
   "source": [
    "y_prid = model.predict(X_test)\n",
    "plt.plot(y_test)\n",
    "plt.plot(y_prid, 'r')\n",
    "\n",
    "plt.plot(history.history['loss'], label='train loss')\n",
    "plt.plot(history.history['val_loss'], label='val loss')\n",
    "plt.legend()\n",
    "plt.show()"
   ],
   "id": "a675d1919d738b10",
   "outputs": [
    {
     "name": "stdout",
     "output_type": "stream",
     "text": [
      "\u001B[1m3/3\u001B[0m \u001B[32m━━━━━━━━━━━━━━━━━━━━\u001B[0m\u001B[37m\u001B[0m \u001B[1m0s\u001B[0m 15ms/step\n"
     ]
    },
    {
     "data": {
      "text/plain": [
       "<Figure size 640x480 with 1 Axes>"
      ],
      "image/png": "[encoded data removed]"
     },
     "metadata": {},
     "output_type": "display_data"
    }
   ],
   "execution_count": 365
  }
 ],
 "metadata": {
  "kernelspec": {
   "display_name": "Python 3 (ipykernel)",
   "language": "python",
   "name": "python3"
  },
  "language_info": {
   "codemirror_mode": {
    "name": "ipython",
    "version": 3
   },
   "file_extension": ".py",
   "mimetype": "text/x-python",
   "name": "python",
   "nbconvert_exporter": "python",
   "pygments_lexer": "ipython3",
   "version": "3.10.9"
  }
 },
 "nbformat": 4,
 "nbformat_minor": 5
}
